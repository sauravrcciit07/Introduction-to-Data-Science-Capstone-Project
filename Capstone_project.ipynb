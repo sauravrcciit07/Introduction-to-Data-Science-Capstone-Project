{
 "cells": [
  {
   "cell_type": "code",
   "execution_count": 13,
   "metadata": {
    "collapsed": true
   },
   "outputs": [],
   "source": [
    "import pandas as pd\n",
    "import numpy as np\n",
    "from scipy.stats import ttest_ind"
   ]
  },
  {
   "cell_type": "code",
   "execution_count": 14,
   "metadata": {
    "collapsed": true
   },
   "outputs": [],
   "source": [
    "#This dictionary is used to map state names to two letter acronyms\n",
    "states = {'OH': 'Ohio', 'KY': 'Kentucky', 'AS': 'American Samoa', 'NV': 'Nevada', 'WY': 'Wyoming', 'NA': 'National', 'AL': 'Alabama', 'MD': 'Maryland', 'AK': 'Alaska', 'UT': 'Utah', 'OR': 'Oregon', 'MT': 'Montana', 'IL': 'Illinois', 'TN': 'Tennessee', 'DC': 'District of Columbia', 'VT': 'Vermont', 'ID': 'Idaho', 'AR': 'Arkansas', 'ME': 'Maine', 'WA': 'Washington', 'HI': 'Hawaii', 'WI': 'Wisconsin', 'MI': 'Michigan', 'IN': 'Indiana', 'NJ': 'New Jersey', 'AZ': 'Arizona', 'GU': 'Guam', 'MS': 'Mississippi', 'PR': 'Puerto Rico', 'NC': 'North Carolina', 'TX': 'Texas', 'SD': 'South Dakota', 'MP': 'Northern Mariana Islands', 'IA': 'Iowa', 'MO': 'Missouri', 'CT': 'Connecticut', 'WV': 'West Virginia', 'SC': 'South Carolina', 'LA': 'Louisiana', 'KS': 'Kansas', 'NY': 'New York', 'NE': 'Nebraska', 'OK': 'Oklahoma', 'FL': 'Florida', 'CA': 'California', 'CO': 'Colorado', 'PA': 'Pennsylvania', 'DE': 'Delaware', 'NM': 'New Mexico', 'RI': 'Rhode Island', 'MN': 'Minnesota', 'VI': 'Virgin Islands', 'NH': 'New Hampshire', 'MA': 'Massachusetts', 'GA': 'Georgia', 'ND': 'North Dakota', 'VA': 'Virginia'}"
   ]
  },
  {
   "cell_type": "code",
   "execution_count": 15,
   "metadata": {
    "collapsed": true,
    "umich_part_id": "021",
    "umich_partlist_id": "004"
   },
   "outputs": [],
   "source": [
    "def get_list_of_university_towns():\n",
    "    '''Returns a DataFrame of towns and the states they are in from the \n",
    "    university_towns.txt list. The format of the DataFrame is:\n",
    "    DataFrame( columns=[\"State\", \"RegionName\"]  )\n",
    "    \n",
    "    The following cleaning is done:\n",
    "\n",
    "    1. For \"State\", removing characters from \"[\" to the end.\n",
    "    2. For \"RegionName\", when applicable, removing every character from \" (\" to the end.'''\n",
    "    def exstate(data):\n",
    "        if(data.loc[0].split('[')[0] in states.values()):\n",
    "            data['State']=data.loc[0].split('[')[0]\n",
    "            data.loc[0]=data.loc[0].split('[')[0]\n",
    "        return data\n",
    "    utowns=pd.read_csv('university_towns.txt',sep=\"/n\",header=None)\n",
    "    utowns=utowns.apply(exstate,axis=1).fillna(method='ffill')\n",
    "    utowns['RegionName']=utowns[utowns[0]!=utowns['State']].apply(lambda x: x[0].split('(')[0].strip(),axis=1)\n",
    "    utowns=utowns.dropna().drop(0,axis=1).reset_index().drop(['index'],axis=1)\n",
    "    return utowns"
   ]
  },
  {
   "cell_type": "code",
   "execution_count": 16,
   "metadata": {
    "collapsed": true,
    "umich_part_id": "022",
    "umich_partlist_id": "004"
   },
   "outputs": [],
   "source": [
    "def get_recession_start():\n",
    "    '''Returns the year and quarter of the recession start time as a \n",
    "    string value in a format such as 2005q3'''\n",
    "    gdp=pd.read_excel('gdplev.xls',skiprows=5,header=0,usecols=[4,6]).dropna()\n",
    "    gdp.set_index('Unnamed: 4',inplace=True)\n",
    "    gdp=gdp.loc['2000q1':]\n",
    "    gdp=gdp.rename(columns={'GDP in billions of chained 2009 dollars.1':'GDP'})\n",
    "    gdp.index.rename('Year',inplace=True)\n",
    "    for i in range(2,(len(gdp.index)-2)):\n",
    "        j,flagd=0,0\n",
    "        while(j<=i-1):\n",
    "            if(gdp.iloc[i-j-1,0]>gdp.iloc[i-j,0]):\n",
    "                flagd+=1\n",
    "            else:\n",
    "                break\n",
    "            j+=1\n",
    "        if(flagd>=2):\n",
    "            k,flagu=0,0\n",
    "            while(k<2):\n",
    "                if(gdp.iloc[i+k,0]<gdp.iloc[i+k+1,0]):\n",
    "                    flagu+=1\n",
    "                k+=1\n",
    "            if(flagu==2):\n",
    "                start=i-flagd+1\n",
    "                bottom=i\n",
    "                end=i+flagu\n",
    "                break\n",
    "        else:\n",
    "            continue\n",
    "    return gdp.index.values[start]"
   ]
  },
  {
   "cell_type": "code",
   "execution_count": 17,
   "metadata": {
    "collapsed": true,
    "umich_part_id": "023",
    "umich_partlist_id": "004"
   },
   "outputs": [],
   "source": [
    "def get_recession_end():\n",
    "    '''Returns the year and quarter of the recession end time as a \n",
    "    string value in a format such as 2005q3'''\n",
    "    gdp=pd.read_excel('gdplev.xls',skiprows=5,header=0,usecols=[4,6]).dropna()\n",
    "    gdp.set_index('Unnamed: 4',inplace=True)\n",
    "    gdp=gdp.loc['2000q1':]\n",
    "    gdp=gdp.rename(columns={'GDP in billions of chained 2009 dollars.1':'GDP'})\n",
    "    gdp.index.rename('Year',inplace=True)\n",
    "    for i in range(2,(len(gdp.index)-2)):\n",
    "        j,flagd=0,0\n",
    "        while(j<=i-1):\n",
    "            if(gdp.iloc[i-j-1,0]>gdp.iloc[i-j,0]):\n",
    "                flagd+=1\n",
    "            else:\n",
    "                break\n",
    "            j+=1\n",
    "        if(flagd>=2):\n",
    "            k,flagu=0,0\n",
    "            while(k<2):\n",
    "                if(gdp.iloc[i+k,0]<gdp.iloc[i+k+1,0]):\n",
    "                    flagu+=1\n",
    "                k+=1\n",
    "            if(flagu==2):\n",
    "                start=i-flagd+1\n",
    "                bottom=i\n",
    "                end=i+flagu\n",
    "                break\n",
    "        else:\n",
    "            continue\n",
    "    return gdp.index.values[end]"
   ]
  },
  {
   "cell_type": "code",
   "execution_count": 18,
   "metadata": {
    "collapsed": true,
    "umich_part_id": "024",
    "umich_partlist_id": "004"
   },
   "outputs": [],
   "source": [
    "def get_recession_bottom():\n",
    "    '''Returns the year and quarter of the recession bottom time as a \n",
    "    string value in a format such as 2005q3'''\n",
    "    gdp=pd.read_excel('gdplev.xls',skiprows=5,header=0,usecols=[4,6]).dropna()\n",
    "    gdp.set_index('Unnamed: 4',inplace=True)\n",
    "    gdp=gdp.loc['2000q1':]\n",
    "    gdp=gdp.rename(columns={'GDP in billions of chained 2009 dollars.1':'GDP'})\n",
    "    gdp.index.rename('Year',inplace=True)\n",
    "    for i in range(2,(len(gdp.index)-2)):\n",
    "        j,flagd=0,0\n",
    "        while(j<=i-1):\n",
    "            if(gdp.iloc[i-j-1,0]>gdp.iloc[i-j,0]):\n",
    "                flagd+=1\n",
    "            else:\n",
    "                break\n",
    "            j+=1\n",
    "        if(flagd>=2):\n",
    "            k,flagu=0,0\n",
    "            while(k<2):\n",
    "                if(gdp.iloc[i+k,0]<gdp.iloc[i+k+1,0]):\n",
    "                    flagu+=1\n",
    "                k+=1\n",
    "            if(flagu==2):\n",
    "                start=i-flagd+1\n",
    "                bottom=i\n",
    "                end=i+flagu\n",
    "                break\n",
    "        else:\n",
    "            continue\n",
    "    return gdp.index.values[bottom]"
   ]
  },
  {
   "cell_type": "code",
   "execution_count": 19,
   "metadata": {
    "collapsed": true,
    "umich_part_id": "025",
    "umich_partlist_id": "004"
   },
   "outputs": [],
   "source": [
    "def convert_housing_data_to_quarters():\n",
    "    '''Converts the housing data to quarters and returns it as mean \n",
    "    values in a dataframe. This dataframe has a multi-index\n",
    "    in the shape of [\"State\",\"RegionName\"].\n",
    "    '''\n",
    "    homes=pd.read_csv('City_Zhvi_AllHomes.csv')\n",
    "    homes=pd.merge(homes[['State','RegionName']],homes.loc[:,'2000-01':],left_index=True,right_index=True)\n",
    "    homes['State']=homes.apply(lambda x:states[x['State']],axis=1)\n",
    "    homes=homes.set_index(['State','RegionName'])\n",
    "    homes.columns=pd.to_datetime(homes.columns)\n",
    "    homes=homes.resample('Q',axis=1).mean()\n",
    "    homes.columns=[str(homes.columns[i]).split('-')[0]+'q'+str(int(str(homes.columns[i]).split('-')[1].lstrip('0'))//3) for i in range(len(homes.columns))]\n",
    "    return homes"
   ]
  },
  {
   "cell_type": "code",
   "execution_count": 20,
   "metadata": {
    "umich_part_id": "026",
    "umich_partlist_id": "004"
   },
   "outputs": [],
   "source": [
    "def run_ttest():\n",
    "    '''First creates new data showing the decline or growth of housing prices\n",
    "    between the recession start and the recession bottom. Then runs a ttest\n",
    "    comparing the university town values to the non-university towns values, \n",
    "    return whether the alternative hypothesis (that the two groups are different)\n",
    "    is true or not as well as the p-value of the confidence. \n",
    "    \n",
    "    Return the tuple (different, p, better) where different=True if the t-test is\n",
    "    True at a p<0.01 (we reject the null hypothesis), or different=False if \n",
    "    otherwise (we cannot reject the null hypothesis). The variable p is\n",
    "    the exact p value returned from scipy.stats.ttest_ind(). The\n",
    "    value for better is either \"university town\" or \"non-university town\"\n",
    "    depending on which has a lower mean price ratio (which is equivilent to a\n",
    "    reduced market loss).'''\n",
    "    utowns=get_list_of_university_towns()\n",
    "    utowns.set_index(['State','RegionName'],inplace=True)\n",
    "    start=get_recession_start()\n",
    "    bstart=start.split('q')[0]+'q'+str(int(start.split('q')[1])-1)\n",
    "    bottom=get_recession_bottom()\n",
    "    homes_sb=convert_housing_data_to_quarters()[[bstart,bottom]]\n",
    "    u_towns=pd.merge(homes_sb,utowns,how='inner',left_index=True,right_index=True)\n",
    "    nu_towns=homes_sb.drop(list(u_towns.index))\n",
    "    u_towns['PQR']=u_towns['2008q2']/u_towns['2009q2']\n",
    "    nu_towns['PQR']=nu_towns['2008q2']/nu_towns['2009q2']\n",
    "    p_value=ttest_ind(u_towns['PQR'],nu_towns['PQR'],nan_policy=\"omit\").pvalue\n",
    "    different = True if(p_value < 0.01) else False\n",
    "    if(u_towns['PQR'].mean()<nu_towns['PQR'].mean()):\n",
    "        better='university town'\n",
    "    else:\n",
    "        better='non-university town'\n",
    "    return (different,p_value,better)"
   ]
  },
  {
   "cell_type": "code",
   "execution_count": 21,
   "metadata": {},
   "outputs": [
    {
     "output_type": "execute_result",
     "data": {
      "text/plain": [
       "(True, 0.002724063704753125, 'university town')"
      ]
     },
     "metadata": {},
     "execution_count": 21
    }
   ],
   "source": [
    "run_ttest()"
   ]
  },
  {
   "cell_type": "code",
   "execution_count": null,
   "metadata": {},
   "outputs": [],
   "source": []
  }
 ],
 "metadata": {
  "coursera": {
   "course_slug": "python-data-analysis",
   "graded_item_id": "Il9Fx",
   "launcher_item_id": "TeDW0",
   "part_id": "WGlun"
  },
  "kernelspec": {
   "display_name": "Python 3",
   "language": "python",
   "name": "python3"
  },
  "language_info": {
   "codemirror_mode": {
    "name": "ipython",
    "version": 3
   },
   "file_extension": ".py",
   "mimetype": "text/x-python",
   "name": "python",
   "nbconvert_exporter": "python",
   "pygments_lexer": "ipython3",
   "version": "3.7.9-final"
  },
  "umich": {
   "id": "Assignment 4",
   "version": "1.1"
  }
 },
 "nbformat": 4,
 "nbformat_minor": 1
}